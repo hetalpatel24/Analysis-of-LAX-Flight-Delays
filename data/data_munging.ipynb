{
 "cells": [
  {
   "cell_type": "code",
   "execution_count": 1,
   "metadata": {
    "collapsed": true
   },
   "outputs": [],
   "source": [
    "import pandas as pd\n",
    "import glob"
   ]
  },
  {
   "cell_type": "code",
   "execution_count": 5,
   "metadata": {},
   "outputs": [],
   "source": [
    "drop_col = pd.read_csv('drop_columns.csv', index_col=False)\n",
    "drop_col_list = drop_col['ColNum'].tolist()"
   ]
  },
  {
   "cell_type": "code",
   "execution_count": 2,
   "metadata": {},
   "outputs": [
    {
     "name": "stdout",
     "output_type": "stream",
     "text": [
      "raw\\On_Time_On_Time_Performance_2016_1.csv\n",
      "raw\\On_Time_On_Time_Performance_2016_10.csv\n",
      "raw\\On_Time_On_Time_Performance_2016_11.csv\n",
      "raw\\On_Time_On_Time_Performance_2016_12.csv\n",
      "raw\\On_Time_On_Time_Performance_2016_2.csv\n",
      "raw\\On_Time_On_Time_Performance_2016_3.csv\n",
      "raw\\On_Time_On_Time_Performance_2016_4.csv\n",
      "raw\\On_Time_On_Time_Performance_2016_5.csv\n",
      "raw\\On_Time_On_Time_Performance_2016_6.csv\n",
      "raw\\On_Time_On_Time_Performance_2016_7.csv\n",
      "raw\\On_Time_On_Time_Performance_2016_8.csv\n",
      "raw\\On_Time_On_Time_Performance_2016_9.csv\n"
     ]
    }
   ],
   "source": [
    "path = \"raw/*.csv\"\n",
    "for fname in glob.glob(path):\n",
    "    raw_data = pd.read_csv(fname, index_col=False)\n",
    "    raw_df = pd.DataFrame(raw_data)\n",
    "    raw_df.drop(df.iloc[:,63:110], axis=1, inplace=True)\n",
    "    #df.to_csv(f'drop/{fname}', encoding='utf-8', index=False)"
   ]
  },
  {
   "cell_type": "code",
   "execution_count": null,
   "metadata": {
    "collapsed": true
   },
   "outputs": [],
   "source": []
  }
 ],
 "metadata": {
  "kernelspec": {
   "display_name": "Python 3",
   "language": "python",
   "name": "python3"
  },
  "language_info": {
   "codemirror_mode": {
    "name": "ipython",
    "version": 3
   },
   "file_extension": ".py",
   "mimetype": "text/x-python",
   "name": "python",
   "nbconvert_exporter": "python",
   "pygments_lexer": "ipython3",
   "version": "3.6.2"
  }
 },
 "nbformat": 4,
 "nbformat_minor": 2
}
